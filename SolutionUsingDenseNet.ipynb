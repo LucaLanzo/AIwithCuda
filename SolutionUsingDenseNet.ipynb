{
 "cells": [
  {
   "cell_type": "markdown",
   "id": "a05e7329",
   "metadata": {},
   "source": [
    "# Solution using a DenseNet\n",
    "Solution by Luca Lanzo"
   ]
  },
  {
   "cell_type": "markdown",
   "id": "777c7cfe",
   "metadata": {},
   "source": [
    "### Problem description\n",
    "The classification of the Fashion-MNIST dataset is also a good opportunity to test out a DenseNet architecture."
   ]
  },
  {
   "cell_type": "markdown",
   "id": "dd5fab45",
   "metadata": {},
   "source": [
    "### Proposed solution\n",
    "Use the standard Fashion-MNIST dataset from the torchvision library to train a model able to classify the images by their type."
   ]
  },
  {
   "cell_type": "markdown",
   "id": "4250e024",
   "metadata": {},
   "source": [
    "## Coded Solution"
   ]
  },
  {
   "cell_type": "markdown",
   "id": "5dd0e1b8",
   "metadata": {},
   "source": [
    "### Step 1: Importing all necessary libraries"
   ]
  },
  {
   "cell_type": "code",
   "execution_count": 1,
   "id": "47fce87d",
   "metadata": {},
   "outputs": [],
   "source": [
    "import torch\n",
    "import torch.nn as nn\n",
    "import torch.nn.functional as F\n",
    "import torch.optim as optim\n",
    "import torchvision\n",
    "from torchvision import datasets, transforms\n",
    "import matplotlib.pyplot as plt"
   ]
  },
  {
   "cell_type": "markdown",
   "id": "a5b9ee3f",
   "metadata": {},
   "source": [
    "### Step 2: Setup CUDA for parallel computation"
   ]
  },
  {
   "cell_type": "markdown",
   "id": "b9d2c6d1",
   "metadata": {},
   "source": [
    "While the sequential computations run on the CPU, Pytorch can offload the heavy duty parallel computations onto the GPU.\n",
    "Not every user running this notebook has CUDA enabled so I have coded a short device check which creates the data and the model either on CUDA or CPU."
   ]
  },
  {
   "cell_type": "code",
   "execution_count": 2,
   "id": "1a48bbea",
   "metadata": {},
   "outputs": [
    {
     "name": "stdout",
     "output_type": "stream",
     "text": [
      "Cuda available: True\n"
     ]
    }
   ],
   "source": [
    "print(f'Cuda available: {torch.cuda.is_available()}')\n",
    "\n",
    "device = \"cuda\" if torch.cuda.is_available() else \"cpu\""
   ]
  },
  {
   "cell_type": "markdown",
   "id": "6c7ae1d3",
   "metadata": {},
   "source": [
    "### Step 3: Get the Fashion-MNIST train and test dataset"
   ]
  },
  {
   "cell_type": "code",
   "execution_count": 3,
   "id": "a893fed6",
   "metadata": {},
   "outputs": [],
   "source": [
    "mnist_train = datasets.FashionMNIST(root='datasets', train=True, download=True, transform=transforms.ToTensor())\n",
    "mnist_test = datasets.FashionMNIST(root='datasets', train=False, download=True, transform=transforms.ToTensor())"
   ]
  },
  {
   "cell_type": "markdown",
   "id": "e3d2cc39",
   "metadata": {},
   "source": [
    "### Step 4: Instantiate the DataLoaders"
   ]
  },
  {
   "cell_type": "code",
   "execution_count": 4,
   "id": "c7b105d2",
   "metadata": {},
   "outputs": [],
   "source": [
    "batch_size = 128\n",
    "trainloader = torch.utils.data.DataLoader(mnist_train, batch_size=batch_size, shuffle=True)\n",
    "testloader = torch.utils.data.DataLoader(mnist_test, batch_size=batch_size, shuffle=False)"
   ]
  },
  {
   "cell_type": "markdown",
   "id": "9625d0c5",
   "metadata": {},
   "source": [
    "### Step 5: Defining the CNN model"
   ]
  },
  {
   "cell_type": "markdown",
   "id": "9f348de9",
   "metadata": {},
   "source": [
    "#### Step 5.1: Defining the DenseLayer\n",
    "It is important to add zero-padding to the convolutional layer in order to preserve the spatial dimension of the tensor."
   ]
  },
  {
   "cell_type": "code",
   "execution_count": 5,
   "id": "718a4a2d",
   "metadata": {},
   "outputs": [],
   "source": [
    "class DenseLayer(nn.Module):\n",
    "    def __init__(self, in_channels, out_channels):\n",
    "        super().__init__()\n",
    "        self.bn = nn.BatchNorm2d(in_channels)\n",
    "        # Kernel size fixed to 3x3\n",
    "        self.conv = nn.Conv2d(in_channels, out_channels, kernel_size=3, padding='same')\n",
    "        \n",
    "    def forward(self, x):\n",
    "        x = self.bn(x)\n",
    "        x = F.relu(x)\n",
    "        x = self.conv(x)\n",
    "        return x"
   ]
  },
  {
   "cell_type": "markdown",
   "id": "50dac4aa",
   "metadata": {},
   "source": [
    "#### Step 5.2: Defining the DenseBlock\n",
    "I thought out the following loop to program the DenseBlock architecture. On init the code will create a variable amount of DenseLayers each with increasing channel sizes. On forward, it iterates through the DenseLayers and runs the Layer. After it the result gets concatenated to the previous DenseLayer-results. It follows this model:  \n",
    "$$\\mathcal{x_l = H_l ([x_0, x_1,  ... , x_{l-1}])}$$\n"
   ]
  },
  {
   "cell_type": "code",
   "execution_count": 6,
   "id": "539b358b",
   "metadata": {},
   "outputs": [],
   "source": [
    "class DenseBlock(nn.Module):\n",
    "    def __init__(self, num_layers, in_channels, out_channels):\n",
    "        super().__init__()\n",
    "        self.layers = []\n",
    "        \n",
    "        for _ in range(num_layers):\n",
    "            self.layers.append(DenseLayer(in_channels, out_channels).to(device))\n",
    "            \n",
    "            # The channel size will double with each concat\n",
    "            in_channels *= 2\n",
    "            out_channels *= 2\n",
    "    \n",
    "    def forward(self, x):\n",
    "        concat = x\n",
    "        out = None\n",
    "        \n",
    "        for dense_layer in self.layers:\n",
    "            \n",
    "            out = dense_layer(concat)\n",
    "            concat = torch.cat((concat, out), 1)\n",
    "        \n",
    "        return concat"
   ]
  },
  {
   "cell_type": "markdown",
   "id": "af61035e",
   "metadata": {},
   "source": [
    "#### Step 5.3: Defining the DenseNet"
   ]
  },
  {
   "cell_type": "code",
   "execution_count": 7,
   "id": "77d2eeaf",
   "metadata": {},
   "outputs": [],
   "source": [
    "class DenseNet(nn.Module):\n",
    "    def __init__(self):\n",
    "        super().__init__()\n",
    "        self.conv1 = nn.Conv2d(in_channels=1, out_channels=4, kernel_size=3)\n",
    "        self.ap1 = nn.AvgPool2d(kernel_size=1, stride=2)\n",
    "        \n",
    "        self.db1 = DenseBlock(num_layers=3, in_channels=4, out_channels=4).to(device)\n",
    "        \n",
    "        # Transition layer\n",
    "        # The channel dimension gets blown up from 4 to 16 because it doubles after every concatenation (4 to 8 to 16)\n",
    "        self.bn = nn.BatchNorm2d(num_features=16)    \n",
    "        self.conv2 = nn.Conv2d(in_channels=16, out_channels=4, kernel_size=1)\n",
    "        self.ap2 = nn.AvgPool2d(kernel_size=2, stride=2)\n",
    "        \n",
    "        self.db2 = DenseBlock(num_layers=3, in_channels=4, out_channels=4).to(device)\n",
    "        \n",
    "        # https://discuss.pytorch.org/t/global-average-pooling-in-pytorch/6721/4?page=2\n",
    "        # \"To do this you can apply ... nn.AvgPool2d ... with kernel_size equal to the dimensions of the feature maps.\"\n",
    "        # Dimension of the feature maps is at this point 6x6\n",
    "        # self.ap3 = nn.AvgPool2d((6,6))\n",
    "        \n",
    "        self.f = nn.Flatten()\n",
    "\n",
    "        self.fc = nn.Linear(576, 10)      \n",
    "        \n",
    "    def forward(self, x):\n",
    "        # pre\n",
    "        x = self.ap1(self.conv1(x))\n",
    "        \n",
    "        # first DenseBlock\n",
    "        x = self.db1(x)\n",
    "        \n",
    "        # transition layer\n",
    "        x = self.ap2(self.conv2(self.bn(x)))\n",
    "        \n",
    "        # second Denseblock\n",
    "        x = self.db2(x)\n",
    "        \n",
    "        # global average pooling\n",
    "        # I couldn't get my model to work with this. I am not sure what i did wrong, or maybe I misunderstood Global\n",
    "        # Average Pooling...\n",
    "        # x = self.ap3(x)\n",
    "        \n",
    "        # fully connected layer\n",
    "        x = self.f(x)\n",
    "        x = self.fc(x)\n",
    "        \n",
    "        return x"
   ]
  },
  {
   "cell_type": "markdown",
   "id": "069d428e",
   "metadata": {},
   "source": [
    "#### Step 5.4: Initialise the model and transfer to GPU if possible"
   ]
  },
  {
   "cell_type": "code",
   "execution_count": 8,
   "id": "0902c5f3",
   "metadata": {},
   "outputs": [
    {
     "data": {
      "text/plain": [
       "DenseNet(\n",
       "  (conv1): Conv2d(1, 4, kernel_size=(3, 3), stride=(1, 1))\n",
       "  (ap1): AvgPool2d(kernel_size=1, stride=2, padding=0)\n",
       "  (db1): DenseBlock()\n",
       "  (bn): BatchNorm2d(16, eps=1e-05, momentum=0.1, affine=True, track_running_stats=True)\n",
       "  (conv2): Conv2d(16, 4, kernel_size=(1, 1), stride=(1, 1))\n",
       "  (ap2): AvgPool2d(kernel_size=2, stride=2, padding=0)\n",
       "  (db2): DenseBlock()\n",
       "  (f): Flatten(start_dim=1, end_dim=-1)\n",
       "  (fc): Linear(in_features=576, out_features=10, bias=True)\n",
       ")"
      ]
     },
     "execution_count": 8,
     "metadata": {},
     "output_type": "execute_result"
    }
   ],
   "source": [
    "model = DenseNet()\n",
    "\n",
    "# send the model to CUDA\n",
    "model.to(device)\n",
    "# print(f'Model has been transferred to CUDA: {next(model.parameters()).is_cuda}')"
   ]
  },
  {
   "cell_type": "markdown",
   "id": "1b69a6fb",
   "metadata": {},
   "source": [
    "#### Step 5.5: Some questions"
   ]
  },
  {
   "cell_type": "markdown",
   "id": "3d272988",
   "metadata": {},
   "source": [
    "**What is the spatial dimension of the first DenseBlock and how many input channels and output channels does it have?**  \n",
    "The spatial dimensions are 13 x 13.\n",
    "The channels are 4 before and 64 after the block.\n",
    "\n",
    "**What is the spatial dimension of the second DenseBlock?**  \n",
    "The spatial dimensions are 16 x 16.\n",
    "\n",
    "\n",
    "**What dimension is the input into the final FC layer?**  \n",
    "The dimension is 6 x 6 before flattening and after the FC layer gets a 576 long vector."
   ]
  },
  {
   "cell_type": "markdown",
   "id": "5adfd505",
   "metadata": {},
   "source": [
    "### Step 6: Define the loss function\n",
    "The loss function is defined as the cross-entropy loss."
   ]
  },
  {
   "cell_type": "code",
   "execution_count": 9,
   "id": "bbb43098",
   "metadata": {},
   "outputs": [],
   "source": [
    "loss_func = nn.CrossEntropyLoss()"
   ]
  },
  {
   "cell_type": "markdown",
   "id": "ba154d87",
   "metadata": {},
   "source": [
    "### Step 7: Define the optimisation algorithm\n",
    "The optimisation algorithm is defined as the SGD algorithm."
   ]
  },
  {
   "cell_type": "code",
   "execution_count": 10,
   "id": "6e6d557c",
   "metadata": {},
   "outputs": [],
   "source": [
    "optimiser = optim.SGD(model.parameters(), lr=0.01)"
   ]
  },
  {
   "cell_type": "markdown",
   "id": "d6a868bc",
   "metadata": {},
   "source": [
    "### Step 8: Model training procedure"
   ]
  },
  {
   "cell_type": "code",
   "execution_count": 11,
   "id": "08a9ec44",
   "metadata": {},
   "outputs": [],
   "source": [
    "def model_training(trainloader, model, loss_func, optimiser):\n",
    "    num_epochs = 100 # tweak for optimisation\n",
    "    \n",
    "    losses = []\n",
    "    \n",
    "    # Set the model to training mode\n",
    "    model.train()\n",
    "    \n",
    "    for epoch in range(num_epochs):\n",
    "        running_loss = 0\n",
    "        for i, (images, labels) in enumerate(trainloader):\n",
    "            # transfer data to GPU\n",
    "            images, labels = images.to(device), labels.to(device)\n",
    "            \n",
    "            # training pass\n",
    "            optimiser.zero_grad()\n",
    "            \n",
    "            # get predictions\n",
    "            output = model(images)\n",
    "            \n",
    "            # get loss value\n",
    "            loss = loss_func(output, labels)\n",
    "            \n",
    "            # go in the direction opposite of the gradient\n",
    "            loss.backward()\n",
    "            \n",
    "            # update parameter values\n",
    "            optimiser.step()\n",
    "            \n",
    "            running_loss += loss.item()\n",
    "            \n",
    "        losses.append(running_loss/i)\n",
    "        print(f'Epoch {epoch+1}/{num_epochs} --- Loss {running_loss/i}')\n",
    "        \n",
    "    return losses"
   ]
  },
  {
   "cell_type": "code",
   "execution_count": 12,
   "id": "96af098c",
   "metadata": {},
   "outputs": [
    {
     "name": "stdout",
     "output_type": "stream",
     "text": [
      "Epoch 1/100 --- Loss 1.3477188667171023\n",
      "Epoch 2/100 --- Loss 0.8243412766446415\n",
      "Epoch 3/100 --- Loss 0.7272820726164386\n",
      "Epoch 4/100 --- Loss 0.6815428147331263\n",
      "Epoch 5/100 --- Loss 0.6524777266586947\n",
      "Epoch 6/100 --- Loss 0.6302472242178061\n",
      "Epoch 7/100 --- Loss 0.6132664836497388\n",
      "Epoch 8/100 --- Loss 0.5981381617040715\n",
      "Epoch 9/100 --- Loss 0.5866408160226977\n",
      "Epoch 10/100 --- Loss 0.5755980991654925\n",
      "Epoch 11/100 --- Loss 0.5662113261910585\n",
      "Epoch 12/100 --- Loss 0.5572526456835942\n",
      "Epoch 13/100 --- Loss 0.549684611395893\n",
      "Epoch 14/100 --- Loss 0.5431421681219696\n",
      "Epoch 15/100 --- Loss 0.5369734949408433\n",
      "Epoch 16/100 --- Loss 0.5312277175422407\n",
      "Epoch 17/100 --- Loss 0.526281042995616\n",
      "Epoch 18/100 --- Loss 0.5211050123867825\n",
      "Epoch 19/100 --- Loss 0.5175753500726488\n",
      "Epoch 20/100 --- Loss 0.5129472721590955\n",
      "Epoch 21/100 --- Loss 0.5097024098802836\n",
      "Epoch 22/100 --- Loss 0.5059092652976004\n",
      "Epoch 23/100 --- Loss 0.5021208451471777\n",
      "Epoch 24/100 --- Loss 0.4997178917893997\n",
      "Epoch 25/100 --- Loss 0.49609641469696647\n",
      "Epoch 26/100 --- Loss 0.49355657373228645\n",
      "Epoch 27/100 --- Loss 0.4914316804999979\n",
      "Epoch 28/100 --- Loss 0.4889399616891502\n",
      "Epoch 29/100 --- Loss 0.48686114316567397\n",
      "Epoch 30/100 --- Loss 0.4842947178289422\n",
      "Epoch 31/100 --- Loss 0.4827837188783874\n",
      "Epoch 32/100 --- Loss 0.4810735591583782\n",
      "Epoch 33/100 --- Loss 0.47924143470760083\n",
      "Epoch 34/100 --- Loss 0.47739429943836653\n",
      "Epoch 35/100 --- Loss 0.4748779208614276\n",
      "Epoch 36/100 --- Loss 0.47390301360024345\n",
      "Epoch 37/100 --- Loss 0.4719437277342519\n",
      "Epoch 38/100 --- Loss 0.4708105307868403\n",
      "Epoch 39/100 --- Loss 0.4694485314763509\n",
      "Epoch 40/100 --- Loss 0.4676592242386606\n",
      "Epoch 41/100 --- Loss 0.46656409020607287\n",
      "Epoch 42/100 --- Loss 0.4651566055468005\n",
      "Epoch 43/100 --- Loss 0.46386942146425575\n",
      "Epoch 44/100 --- Loss 0.4625816113419003\n",
      "Epoch 45/100 --- Loss 0.4620037197939351\n",
      "Epoch 46/100 --- Loss 0.46064076795537245\n",
      "Epoch 47/100 --- Loss 0.4594608019305091\n",
      "Epoch 48/100 --- Loss 0.45800279774981684\n",
      "Epoch 49/100 --- Loss 0.45701469659295857\n",
      "Epoch 50/100 --- Loss 0.45592005932942414\n",
      "Epoch 51/100 --- Loss 0.4556330862080949\n",
      "Epoch 52/100 --- Loss 0.4539979150534695\n",
      "Epoch 53/100 --- Loss 0.45280374319125444\n",
      "Epoch 54/100 --- Loss 0.45208244796237373\n",
      "Epoch 55/100 --- Loss 0.4518698942330148\n",
      "Epoch 56/100 --- Loss 0.4505228750471376\n",
      "Epoch 57/100 --- Loss 0.449620831089142\n",
      "Epoch 58/100 --- Loss 0.44853451777981895\n",
      "Epoch 59/100 --- Loss 0.4475139123825436\n",
      "Epoch 60/100 --- Loss 0.4474540903654873\n",
      "Epoch 61/100 --- Loss 0.44688178898177594\n",
      "Epoch 62/100 --- Loss 0.44569295020694405\n",
      "Epoch 63/100 --- Loss 0.4451641864819914\n",
      "Epoch 64/100 --- Loss 0.444711633790762\n",
      "Epoch 65/100 --- Loss 0.44302816103156817\n",
      "Epoch 66/100 --- Loss 0.4427994307862897\n",
      "Epoch 67/100 --- Loss 0.4421746108967524\n",
      "Epoch 68/100 --- Loss 0.44144596496963096\n",
      "Epoch 69/100 --- Loss 0.4405548384683764\n",
      "Epoch 70/100 --- Loss 0.4400787911353967\n",
      "Epoch 71/100 --- Loss 0.43930894919694996\n",
      "Epoch 72/100 --- Loss 0.4387094921344875\n",
      "Epoch 73/100 --- Loss 0.43829776652348346\n",
      "Epoch 74/100 --- Loss 0.4378390060339728\n",
      "Epoch 75/100 --- Loss 0.4371585098978801\n",
      "Epoch 76/100 --- Loss 0.43618518961036307\n",
      "Epoch 77/100 --- Loss 0.4357148577960638\n",
      "Epoch 78/100 --- Loss 0.43487361818552017\n",
      "Epoch 79/100 --- Loss 0.4346296931815963\n",
      "Epoch 80/100 --- Loss 0.43457998239841217\n",
      "Epoch 81/100 --- Loss 0.4333893252998336\n",
      "Epoch 82/100 --- Loss 0.43295127280756956\n",
      "Epoch 83/100 --- Loss 0.43252237863902354\n",
      "Epoch 84/100 --- Loss 0.4317460727487874\n",
      "Epoch 85/100 --- Loss 0.43173143095695055\n",
      "Epoch 86/100 --- Loss 0.4317079891697464\n",
      "Epoch 87/100 --- Loss 0.4306396645231125\n",
      "Epoch 88/100 --- Loss 0.4300243796573745\n",
      "Epoch 89/100 --- Loss 0.4295202378088083\n",
      "Epoch 90/100 --- Loss 0.429098242877895\n",
      "Epoch 91/100 --- Loss 0.4290001323589912\n",
      "Epoch 92/100 --- Loss 0.42824522998088443\n",
      "Epoch 93/100 --- Loss 0.42752166028715605\n",
      "Epoch 94/100 --- Loss 0.42747614946630264\n",
      "Epoch 95/100 --- Loss 0.42662300398716557\n",
      "Epoch 96/100 --- Loss 0.42637996222728336\n",
      "Epoch 97/100 --- Loss 0.4263264772474256\n",
      "Epoch 98/100 --- Loss 0.4256420534772751\n",
      "Epoch 99/100 --- Loss 0.4251480802384197\n",
      "Epoch 100/100 --- Loss 0.4245027313884507\n"
     ]
    }
   ],
   "source": [
    "losses = model_training(trainloader, model, loss_func, optimiser)"
   ]
  },
  {
   "cell_type": "code",
   "execution_count": 13,
   "id": "f09ae13a",
   "metadata": {},
   "outputs": [
    {
     "data": {
      "text/plain": [
       "[<matplotlib.lines.Line2D at 0x16b9d642640>]"
      ]
     },
     "execution_count": 13,
     "metadata": {},
     "output_type": "execute_result"
    },
    {
     "data": {
      "image/png": "[encoded data removed]",
      "text/plain": [
       "<Figure size 432x288 with 1 Axes>"
      ]
     },
     "metadata": {
      "needs_background": "light"
     },
     "output_type": "display_data"
    }
   ],
   "source": [
    "# plot the losses after finishing the training\n",
    "plt.plot(losses)"
   ]
  },
  {
   "cell_type": "markdown",
   "id": "e5641d81",
   "metadata": {},
   "source": [
    "### Step 10: Check the overall performance on all test images\n",
    "Important: The model has to be set to evaluation mode in order to turn off Dropout and BatchNorm (and other layers/parts of the model). Just to try it out I left the model on CUDA and tested it like this."
   ]
  },
  {
   "cell_type": "code",
   "execution_count": 14,
   "id": "0808cec4",
   "metadata": {},
   "outputs": [
    {
     "name": "stdout",
     "output_type": "stream",
     "text": [
      "The accuracy of the model on all test images is 83.6 %\n"
     ]
    }
   ],
   "source": [
    "correct = 0\n",
    "total = 0\n",
    "with torch.no_grad():\n",
    "    for data in testloader:\n",
    "        images, labels = data\n",
    "        images = images.to(device)\n",
    "        labels = labels.to(device)\n",
    "        \n",
    "        outputs = model(images)\n",
    "        _, predicted = torch.max(outputs.data, 1)\n",
    "        total += labels.size(0)\n",
    "        correct += (predicted == labels).sum().item()\n",
    "\n",
    "print(f'The accuracy of the model on all test images is {100 * correct / total} %')\n",
    "\n",
    "if ((100 * correct / total) > 85):\n",
    "    plt.imshow(plt.imread('important_reaction_picture.jpg'))"
   ]
  },
  {
   "cell_type": "markdown",
   "id": "ff916bb7",
   "metadata": {},
   "source": [
    "### Step 11: Evaluating the model and the performance¶"
   ]
  },
  {
   "cell_type": "markdown",
   "id": "05d7b44f",
   "metadata": {},
   "source": [
    "Here are my results using the DenseNet:   \n",
    "\n",
    "\n",
    "_lr=0.1, epochs=30, batch_size=128_  \n",
    "I got a 85.01 % accuracy. This is quite good but I am going to let it run for some more epochs and decrease the learning rate\n",
    "\n",
    "_**lr=0.01**, **epochs=100**, batch_size=128_   \n",
    "83,6 %. This actually got a worse accuracy, so I will stick with a 0.1 learning rate.\n",
    "\n",
    "\n",
    "---\n",
    "I will stop this a bit sooner than on the other solution (with ResBlocks), as I don't think I can get any better results if I let it run any longer :) \n",
    "I choose the following hyper parameters for my model:  \n",
    "**lr=0.1, epochs=100, batch_size=128**: This will yield a good result with which I am content."
   ]
  }
 ],
 "metadata": {
  "kernelspec": {
   "display_name": "Python 3 (ipykernel)",
   "language": "python",
   "name": "python3"
  },
  "language_info": {
   "codemirror_mode": {
    "name": "ipython",
    "version": 3
   },
   "file_extension": ".py",
   "mimetype": "text/x-python",
   "name": "python",
   "nbconvert_exporter": "python",
   "pygments_lexer": "ipython3",
   "version": "3.9.7"
  }
 },
 "nbformat": 4,
 "nbformat_minor": 5
}
