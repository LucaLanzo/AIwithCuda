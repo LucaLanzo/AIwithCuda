{
 "cells": [
  {
   "cell_type": "markdown",
   "id": "5dab1128",
   "metadata": {},
   "source": [
    "# Assignment 02\n",
    "Solution by Luca Lanzo"
   ]
  },
  {
   "cell_type": "markdown",
   "id": "add0dd29",
   "metadata": {},
   "source": [
    "### Problem description\n",
    "\n",
    "The classification of the Fashion-MNIST dataset is a good opportunity to test out an MLP model using residual blocks (ResBlocks)."
   ]
  },
  {
   "cell_type": "markdown",
   "id": "1ee6bbe9",
   "metadata": {},
   "source": [
    "### Proposed solution\n",
    "Use the standard Fashion-MNIST dataset from the torchvision library to train a model able to classify the images by their type."
   ]
  },
  {
   "cell_type": "markdown",
   "id": "5d6d695d",
   "metadata": {},
   "source": [
    "## Coded Solution"
   ]
  },
  {
   "cell_type": "markdown",
   "id": "23df345e",
   "metadata": {},
   "source": [
    "### Step 1: Importing all necessary libraries"
   ]
  },
  {
   "cell_type": "code",
   "execution_count": 1,
   "id": "6c2570f6",
   "metadata": {},
   "outputs": [],
   "source": [
    "import torch\n",
    "import torch.nn as nn\n",
    "import torch.nn.functional as F\n",
    "import torch.optim as optim\n",
    "import torchvision\n",
    "from torchvision import datasets, transforms\n",
    "import matplotlib.pyplot as plt"
   ]
  },
  {
   "cell_type": "markdown",
   "id": "3d6dad7f",
   "metadata": {},
   "source": [
    "### Step 2: Setup CUDA for parallel computation\n",
    "While the sequential computations run on the CPU, Pytorch can offload the heavy duty parallel computations onto the GPU.  \n",
    "Not every user running this notebook has CUDA enabled so I have coded a short device check which creates the data and the model either on CUDA or CPU."
   ]
  },
  {
   "cell_type": "code",
   "execution_count": 2,
   "id": "226402af",
   "metadata": {},
   "outputs": [
    {
     "name": "stdout",
     "output_type": "stream",
     "text": [
      "Cuda available: True\n"
     ]
    }
   ],
   "source": [
    "print(f'Cuda available: {torch.cuda.is_available()}')\n",
    "\n",
    "device = \"cuda\" if torch.cuda.is_available() else \"cpu\""
   ]
  },
  {
   "cell_type": "markdown",
   "id": "3926a425",
   "metadata": {},
   "source": [
    "### Step 3: Get the Fashion-MNIST train and test dataset"
   ]
  },
  {
   "cell_type": "code",
   "execution_count": 3,
   "id": "cb30e1c0",
   "metadata": {},
   "outputs": [],
   "source": [
    "mnist_train = datasets.FashionMNIST(root='datasets', train=True, download=True, transform=transforms.ToTensor())\n",
    "mnist_test = datasets.FashionMNIST(root='datasets', train=False, download=True, transform=transforms.ToTensor())"
   ]
  },
  {
   "cell_type": "markdown",
   "id": "b669ae7a",
   "metadata": {},
   "source": [
    "### Step 4: Instantiate the DataLoaders"
   ]
  },
  {
   "cell_type": "code",
   "execution_count": 4,
   "id": "a109c632",
   "metadata": {},
   "outputs": [],
   "source": [
    "batch_size = 128\n",
    "trainloader = torch.utils.data.DataLoader(mnist_train, batch_size=batch_size, shuffle=True)\n",
    "testloader = torch.utils.data.DataLoader(mnist_test, batch_size=batch_size, shuffle=False)"
   ]
  },
  {
   "cell_type": "markdown",
   "id": "c1c0c0da",
   "metadata": {},
   "source": [
    "### Step 5: Defining the MLP model"
   ]
  },
  {
   "cell_type": "markdown",
   "id": "3cb133cb",
   "metadata": {},
   "source": [
    "#### Step 5.1: Defining the ResBlock first\n",
    "The ResBlock is defined as its own layer using the subclass of nn.Module"
   ]
  },
  {
   "cell_type": "code",
   "execution_count": 5,
   "id": "6c474148",
   "metadata": {},
   "outputs": [],
   "source": [
    "class ResBlock(nn.Module):\n",
    "    def __init__(self, out_channels):\n",
    "        super().__init__()\n",
    "        self.bn1 = nn.BatchNorm1d(out_channels)\n",
    "        self.d1 = nn.Dropout(p=0.5)\n",
    "        \n",
    "        self.fc1 = nn.Linear(out_channels, out_channels)\n",
    "        self.bn2 = nn.BatchNorm1d(out_channels)\n",
    "        \n",
    "        self.fc2 = nn.Linear(out_channels, out_channels)\n",
    "        \n",
    "    def forward(self, x):\n",
    "        identity = x\n",
    "        \n",
    "        # batchnorm, relu, dropout\n",
    "        out = self.d1(F.relu(self.bn1(x)))\n",
    "        \n",
    "        # fully connected, batchnorm, relu\n",
    "        out = F.relu(self.bn2(self.fc1(out)))\n",
    "        \n",
    "        # fully connected\n",
    "        out = self.fc2(out)\n",
    "        \n",
    "        # Skip the connection here via addition --- https://theaisummer.com/skip-connections/\n",
    "        out += identity\n",
    "        \n",
    "        return out"
   ]
  },
  {
   "cell_type": "markdown",
   "id": "ab04c960",
   "metadata": {},
   "source": [
    "#### Step 5.2: Defining the MLP after\n",
    "The output channels are variable, so that the user can set them on object initialisation."
   ]
  },
  {
   "cell_type": "code",
   "execution_count": 6,
   "id": "f50bf562",
   "metadata": {},
   "outputs": [],
   "source": [
    "class MLP(nn.Module):\n",
    "    def __init__(self, in_channels, out_channels):\n",
    "        super().__init__()\n",
    "        self.fc1 = nn.Linear(in_channels, out_channels[0])\n",
    "        \n",
    "        self.rb1 = ResBlock(out_channels[0])\n",
    "        \n",
    "        self.bn1 = nn.BatchNorm1d(out_channels[0])\n",
    "        self.fc2 = nn.Linear(out_channels[0], out_channels[1])\n",
    "        \n",
    "        self.rb2 = ResBlock(out_channels[1])\n",
    "        \n",
    "        self.bn2 = nn.BatchNorm1d(out_channels[1])\n",
    "        self.fc3 = nn.Linear(out_channels[1], out_channels[2])\n",
    "            \n",
    "    def forward(self, x):\n",
    "        # no need to flatten x as it has already been flattened in the model_training method\n",
    "        # fully connected\n",
    "        x = self.fc1(x)\n",
    "\n",
    "        # ResBlock with skip\n",
    "        x = self.rb1(x)\n",
    "        \n",
    "        # batch norm, relu, fully connected\n",
    "        x = self.fc2(F.relu(self.bn1(x)))\n",
    "        \n",
    "        # ResBlock with skip\n",
    "        x = self.rb2(x)\n",
    "        \n",
    "        # batch norm, relu, fully connected\n",
    "        x = self.fc3(F.relu(self.bn2(x)))\n",
    "        \n",
    "        return x"
   ]
  },
  {
   "cell_type": "markdown",
   "id": "d0e5c00d",
   "metadata": {},
   "source": [
    "### Step 5.3: Initialise the model and transfer to GPU if possible"
   ]
  },
  {
   "cell_type": "code",
   "execution_count": 7,
   "id": "1ff1802e",
   "metadata": {},
   "outputs": [
    {
     "name": "stdout",
     "output_type": "stream",
     "text": [
      "Model has been transferred to CUDA: True\n"
     ]
    }
   ],
   "source": [
    "model = MLP(in_channels=784, out_channels=(256, 64, 10))\n",
    "\n",
    "# send the model to CUDA\n",
    "model.to(device)\n",
    "print(f'Model has been transferred to CUDA: {next(model.parameters()).is_cuda}')"
   ]
  },
  {
   "cell_type": "markdown",
   "id": "bae32053",
   "metadata": {},
   "source": [
    "### Step 6: Define the loss function\n",
    "The loss function is defined as the cross-entropy loss."
   ]
  },
  {
   "cell_type": "code",
   "execution_count": 8,
   "id": "1af5c7fe",
   "metadata": {},
   "outputs": [],
   "source": [
    "loss_func = nn.CrossEntropyLoss()"
   ]
  },
  {
   "cell_type": "markdown",
   "id": "5f2e3fbe",
   "metadata": {},
   "source": [
    "### Step 7: Define the optimisation algorithm"
   ]
  },
  {
   "cell_type": "markdown",
   "id": "ad7482ec",
   "metadata": {},
   "source": [
    "The optimisation algorithm is defined as the SGD algorithm."
   ]
  },
  {
   "cell_type": "code",
   "execution_count": 9,
   "id": "06a6ca58",
   "metadata": {},
   "outputs": [],
   "source": [
    "optimiser = optim.SGD(model.parameters(), lr=0.1)\n",
    "# optimiser = optim.RMSprop(model.parameters(), lr=0.1)"
   ]
  },
  {
   "cell_type": "markdown",
   "id": "2f3c1612",
   "metadata": {},
   "source": [
    "### Step 8: Model training procedure"
   ]
  },
  {
   "cell_type": "code",
   "execution_count": 10,
   "id": "07960fcf",
   "metadata": {},
   "outputs": [],
   "source": [
    "def model_training(trainloader, model, loss_func, optimiser):\n",
    "    num_epochs = 25 # tweak for optimisation\n",
    "    \n",
    "    losses = []\n",
    "    \n",
    "    # Set the model to training mode\n",
    "    model.train()\n",
    "    \n",
    "    for epoch in range(num_epochs):\n",
    "        running_loss = 0\n",
    "        for i, (images, labels) in enumerate(trainloader):\n",
    "            # transfer data to GPU\n",
    "            images, labels = images.to(device), labels.to(device)\n",
    "            \n",
    "            # flatten the images into a 784 long vector\n",
    "            images = torch.flatten(images, 1)\n",
    "            \n",
    "            # training pass\n",
    "            optimiser.zero_grad()\n",
    "            \n",
    "            # get predictions\n",
    "            output = model(images)\n",
    "            \n",
    "            # get loss value\n",
    "            loss = loss_func(output, labels)\n",
    "            \n",
    "            # go in the direction opposite of the gradient\n",
    "            loss.backward()\n",
    "            \n",
    "            # update parameter values\n",
    "            optimiser.step()\n",
    "            \n",
    "            running_loss += loss.item()\n",
    "            \n",
    "        losses.append(running_loss/i)\n",
    "        print(f'Epoch {epoch+1}/{num_epochs} --- Loss {running_loss/i}')\n",
    "        \n",
    "    return losses"
   ]
  },
  {
   "cell_type": "code",
   "execution_count": 11,
   "id": "feaa53a7",
   "metadata": {},
   "outputs": [
    {
     "name": "stdout",
     "output_type": "stream",
     "text": [
      "Epoch 1/100 --- Loss 0.7816416483022209\n",
      "Epoch 2/100 --- Loss 0.45974031224464756\n",
      "Epoch 3/100 --- Loss 0.42317233049971426\n",
      "Epoch 4/100 --- Loss 0.3915882874439415\n",
      "Epoch 5/100 --- Loss 0.3742703395203138\n",
      "Epoch 6/100 --- Loss 0.3542840206661286\n",
      "Epoch 7/100 --- Loss 0.3374879708847938\n",
      "Epoch 8/100 --- Loss 0.33017366981277096\n",
      "Epoch 9/100 --- Loss 0.31887920047992313\n",
      "Epoch 10/100 --- Loss 0.3101113619139561\n",
      "Epoch 11/100 --- Loss 0.30692967829795986\n",
      "Epoch 12/100 --- Loss 0.29535073388972855\n",
      "Epoch 13/100 --- Loss 0.2926602242434891\n",
      "Epoch 14/100 --- Loss 0.2820363198844796\n",
      "Epoch 15/100 --- Loss 0.27591779770759434\n",
      "Epoch 16/100 --- Loss 0.27294452337181974\n",
      "Epoch 17/100 --- Loss 0.26597558374269903\n",
      "Epoch 18/100 --- Loss 0.26327689819865757\n",
      "Epoch 19/100 --- Loss 0.2593870777477566\n",
      "Epoch 20/100 --- Loss 0.2528695588947361\n",
      "Epoch 21/100 --- Loss 0.2517276715614602\n",
      "Epoch 22/100 --- Loss 0.24584532119970545\n",
      "Epoch 23/100 --- Loss 0.24369970834853813\n",
      "Epoch 24/100 --- Loss 0.24120850674808025\n",
      "Epoch 25/100 --- Loss 0.23356314355300534\n",
      "Epoch 26/100 --- Loss 0.2335304586837689\n",
      "Epoch 27/100 --- Loss 0.23293503811662522\n",
      "Epoch 28/100 --- Loss 0.2276218007836077\n",
      "Epoch 29/100 --- Loss 0.22316628121412718\n",
      "Epoch 30/100 --- Loss 0.22051678634543195\n",
      "Epoch 31/100 --- Loss 0.22340833156122866\n",
      "Epoch 32/100 --- Loss 0.21421219145831388\n",
      "Epoch 33/100 --- Loss 0.21406484468497783\n",
      "Epoch 34/100 --- Loss 0.21099161001670563\n",
      "Epoch 35/100 --- Loss 0.20891047918643707\n",
      "Epoch 36/100 --- Loss 0.20862199221220282\n",
      "Epoch 37/100 --- Loss 0.199256726150584\n",
      "Epoch 38/100 --- Loss 0.204136262799048\n",
      "Epoch 39/100 --- Loss 0.20237036033445954\n",
      "Epoch 40/100 --- Loss 0.1971922911799107\n",
      "Epoch 41/100 --- Loss 0.19795916834448138\n",
      "Epoch 42/100 --- Loss 0.19243303769164616\n",
      "Epoch 43/100 --- Loss 0.1951324693683503\n",
      "Epoch 44/100 --- Loss 0.19041939292294094\n",
      "Epoch 45/100 --- Loss 0.188633856896916\n",
      "Epoch 46/100 --- Loss 0.1870022951107886\n",
      "Epoch 47/100 --- Loss 0.1898984451356352\n",
      "Epoch 48/100 --- Loss 0.18211112695180962\n",
      "Epoch 49/100 --- Loss 0.18817092881052414\n",
      "Epoch 50/100 --- Loss 0.18189825390616798\n",
      "Epoch 51/100 --- Loss 0.18085155575575992\n",
      "Epoch 52/100 --- Loss 0.17841499698404065\n",
      "Epoch 53/100 --- Loss 0.17890599648603517\n",
      "Epoch 54/100 --- Loss 0.17528869385202217\n",
      "Epoch 55/100 --- Loss 0.17626150988806516\n",
      "Epoch 56/100 --- Loss 0.1740970015525818\n",
      "Epoch 57/100 --- Loss 0.17351350614116487\n",
      "Epoch 58/100 --- Loss 0.17094153766798922\n",
      "Epoch 59/100 --- Loss 0.173747312102435\n",
      "Epoch 60/100 --- Loss 0.1693219918295996\n",
      "Epoch 61/100 --- Loss 0.16616956076911119\n",
      "Epoch 62/100 --- Loss 0.16956827501392263\n",
      "Epoch 63/100 --- Loss 0.1612926113506795\n",
      "Epoch 64/100 --- Loss 0.16103611421636027\n",
      "Epoch 65/100 --- Loss 0.16279310448111123\n",
      "Epoch 66/100 --- Loss 0.16301003409724715\n",
      "Epoch 67/100 --- Loss 0.16839896178302857\n",
      "Epoch 68/100 --- Loss 0.15612506903867182\n",
      "Epoch 69/100 --- Loss 0.15994274500821137\n",
      "Epoch 70/100 --- Loss 0.15932684067764089\n",
      "Epoch 71/100 --- Loss 0.15341040078136656\n",
      "Epoch 72/100 --- Loss 0.15381875052315813\n",
      "Epoch 73/100 --- Loss 0.153920341299003\n",
      "Epoch 74/100 --- Loss 0.15536031637213424\n",
      "Epoch 75/100 --- Loss 0.15944961856445697\n",
      "Epoch 76/100 --- Loss 0.1524627259017056\n",
      "Epoch 77/100 --- Loss 0.15277774073183537\n",
      "Epoch 78/100 --- Loss 0.15525080484107265\n",
      "Epoch 79/100 --- Loss 0.1463031187876422\n",
      "Epoch 80/100 --- Loss 0.14847443040667307\n",
      "Epoch 81/100 --- Loss 0.1455489669361303\n",
      "Epoch 82/100 --- Loss 0.14802280634355086\n",
      "Epoch 83/100 --- Loss 0.14528239426465753\n",
      "Epoch 84/100 --- Loss 0.14163693777707398\n",
      "Epoch 85/100 --- Loss 0.15265460596937272\n",
      "Epoch 86/100 --- Loss 0.14141636014653322\n",
      "Epoch 87/100 --- Loss 0.14550325837241024\n",
      "Epoch 88/100 --- Loss 0.14282792001867142\n",
      "Epoch 89/100 --- Loss 0.13646182499857795\n",
      "Epoch 90/100 --- Loss 0.14883041102439165\n",
      "Epoch 91/100 --- Loss 0.13995291892455047\n",
      "Epoch 92/100 --- Loss 0.13836326642742014\n",
      "Epoch 93/100 --- Loss 0.14196356003865218\n",
      "Epoch 94/100 --- Loss 0.13964450429392677\n",
      "Epoch 95/100 --- Loss 0.1388493074565871\n",
      "Epoch 96/100 --- Loss 0.14078883194706887\n",
      "Epoch 97/100 --- Loss 0.13389902090669697\n",
      "Epoch 98/100 --- Loss 0.13596749417961407\n",
      "Epoch 99/100 --- Loss 0.13980956356892857\n",
      "Epoch 100/100 --- Loss 0.1347989227511307\n"
     ]
    }
   ],
   "source": [
    "losses = model_training(trainloader, model, loss_func, optimiser)"
   ]
  },
  {
   "cell_type": "code",
   "execution_count": 12,
   "id": "c55327d1",
   "metadata": {},
   "outputs": [
    {
     "data": {
      "text/plain": [
       "[<matplotlib.lines.Line2D at 0x2550c06fac0>]"
      ]
     },
     "execution_count": 12,
     "metadata": {},
     "output_type": "execute_result"
    },
    {
     "data": {
      "image/png": "[encoded data removed]",
      "text/plain": [
       "<Figure size 432x288 with 1 Axes>"
      ]
     },
     "metadata": {
      "needs_background": "light"
     },
     "output_type": "display_data"
    }
   ],
   "source": [
    "# plot the losses after finishing the training\n",
    "plt.plot(losses)"
   ]
  },
  {
   "cell_type": "markdown",
   "id": "339e5727",
   "metadata": {},
   "source": [
    "### Step 9: Test model on the first couple of test images\n",
    "Important: The model has to be set to evaluation mode in order to turn off Dropout and BatchNorm (and other layers/parts of the model). The model has also been transferred back to the CPU because the training has been finished."
   ]
  },
  {
   "cell_type": "code",
   "execution_count": 13,
   "id": "1d02f131",
   "metadata": {},
   "outputs": [
    {
     "data": {
      "image/png": "[encoded data removed]",
      "text/plain": [
       "<Figure size 576x288 with 10 Axes>"
      ]
     },
     "metadata": {
      "needs_background": "light"
     },
     "output_type": "display_data"
    }
   ],
   "source": [
    "# set the model to evaluation mode and send it back to the CPU\n",
    "model.eval()\n",
    "model.to('cpu')\n",
    "\n",
    "fig, axs = plt.subplots(2, 5)\n",
    "fig.set_size_inches(8, 4)\n",
    "axs = axs.flatten()\n",
    "\n",
    "for i, (images, labels) in enumerate(mnist_test):\n",
    "    axs[i].imshow(images.squeeze(), cmap='gray')\n",
    "    \n",
    "    outputs = model(torch.flatten(images, 1))\n",
    "    outputs = torch.argmax(outputs, dim=1)\n",
    "    \n",
    "    axs[i].set_title(f\"{labels}/{outputs.item()}\")\n",
    "    axs[i].xaxis.set_visible(False)\n",
    "    axs[i].yaxis.set_visible(False)\n",
    "    \n",
    "    if i == 9:\n",
    "        break"
   ]
  },
  {
   "cell_type": "markdown",
   "id": "8640f94b",
   "metadata": {},
   "source": [
    "### Step 10: Check the overall performance on all test images"
   ]
  },
  {
   "cell_type": "code",
   "execution_count": 14,
   "id": "66391c64",
   "metadata": {},
   "outputs": [
    {
     "name": "stdout",
     "output_type": "stream",
     "text": [
      "The accuracy of the model on all test images is 87.43 %\n"
     ]
    }
   ],
   "source": [
    "correct = 0\n",
    "total = 0\n",
    "with torch.no_grad():\n",
    "    for data in testloader:\n",
    "        images, labels = data\n",
    "        outputs = model(torch.flatten(images, 1))\n",
    "        _, predicted = torch.max(outputs.data, 1)\n",
    "        total += labels.size(0)\n",
    "        correct += (predicted == labels).sum().item()\n",
    "\n",
    "print(f'The accuracy of the model on all test images is {100 * correct / total} %')\n",
    "\n",
    "if ((100 * correct / total) > 90):\n",
    "    plt.imshow(plt.image.imread('important_reaction_picture.jpg'))"
   ]
  },
  {
   "cell_type": "markdown",
   "id": "28bc56cf",
   "metadata": {},
   "source": [
    "### Step 11: Evaluating the model and the performance"
   ]
  },
  {
   "cell_type": "markdown",
   "id": "ac1aeaf9",
   "metadata": {},
   "source": [
    "This assignment was a very eye opening. The performance of ResNet's are incredible. \n",
    "\n",
    "\n",
    "_lr=0.05, epochs=5, batch_size=128_  \n",
    "On my first ever try i used the hyperparameters from the second assignment and got an overall performance of 87.34 % on the unseen test data.  \n",
    "Although, it didn't look like the loss was plateauing yet. Let's give it some more time to wind down.\n",
    "\n",
    "_lr=0.05, **epochs=20**, batch_size=128_   \n",
    "The accuracy went up to 89.16 %. Nice. But let's give it some more time.\n",
    "\n",
    "_lr=0.05, **epochs=50**, batch_size=128_  \n",
    "89.25 %. Hm, not much improvement. Maybe changing the learning rate does something.\n",
    "\n",
    "---\n",
    "_**lr=0.1**, **epochs=10**, batch_size=128_  \n",
    "88.15 %. Not really a big difference compared to lr=0.05. Maybe I should let it run longer.\n",
    "\n",
    "_lr=0.1, **epochs=50**, batch_size=128_  \n",
    "89.4 %. It keeps getting 'stuck' at around 89 %. I wonder if it might be getting stuck in a local minima. Let's try adding some momentum.\n",
    "\n",
    "---\n",
    "_lr=0.1, **epochs=10**, batch_size=128, momentum=0.9_  \n",
    "Still, no difference with 88.7 %. \n",
    "\n",
    "\n",
    "---\n",
    "I will stop at this point and choose the following hyper parameters for my model:  \n",
    "lr=0.1, epochs=25, batch_size=128: This will yield a good enough result."
   ]
  },
  {
   "cell_type": "markdown",
   "id": "7f24f471",
   "metadata": {},
   "source": [
    "### Just for fun  \n",
    "I stumbled accross this beautiful article on my search to improve hyperparameters  \n",
    "https://blog.paperspace.com/intro-to-optimization-momentum-rmsprop-adam/  \n",
    "\n",
    "It was a great read which made me try out rmsprop just for fun.\n",
    "\n",
    "The optimiser is commented out but can be enabled.\n",
    "\n",
    "RMSprop with _lr=0.1, epochs=100, batch_size=128_    \n",
    "Test accuracy: 87,43 %  \n",
    "Well, it was worth a try. I believe there are some major improvements to the optimiser and hyperparameters but I do not have the experience yet to find it out myself which is why I am sticking to my solution above."
   ]
  }
 ],
 "metadata": {
  "kernelspec": {
   "display_name": "Python 3 (ipykernel)",
   "language": "python",
   "name": "python3"
  },
  "language_info": {
   "codemirror_mode": {
    "name": "ipython",
    "version": 3
   },
   "file_extension": ".py",
   "mimetype": "text/x-python",
   "name": "python",
   "nbconvert_exporter": "python",
   "pygments_lexer": "ipython3",
   "version": "3.9.7"
  }
 },
 "nbformat": 4,
 "nbformat_minor": 5
}
